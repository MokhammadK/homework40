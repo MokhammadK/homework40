{
 "cells": [
  {
   "cell_type": "code",
   "execution_count": 10,
   "id": "55b0c167",
   "metadata": {},
   "outputs": [
    {
     "name": "stdout",
     "output_type": "stream",
     "text": [
      "Stacking Classifier Score: 0.956140350877193\n",
      "Bagging Classifier Score: 0.9473684210526315\n",
      "AdaBoost Classifier Score: 0.9736842105263158\n",
      "XGB Classifier Score: 0.956140350877193\n"
     ]
    }
   ],
   "source": [
    "from sklearn.datasets import load_breast_cancer\n",
    "from sklearn.model_selection import train_test_split\n",
    "from sklearn.ensemble import StackingClassifier, BaggingClassifier, AdaBoostClassifier\n",
    "from sklearn.linear_model import LogisticRegression\n",
    "from sklearn.tree import DecisionTreeClassifier\n",
    "from sklearn.svm import SVC\n",
    "from xgboost import XGBClassifier\n",
    "from sklearn.metrics import accuracy_score\n",
    "\n",
    "# Завантажуємо датасет\n",
    "data = load_breast_cancer()\n",
    "X = data.data\n",
    "y = data.target\n",
    "\n",
    "# Розділяємо дані на навчальний та тестовий набори\n",
    "X_train, X_test, y_train, y_test = train_test_split(X, y, test_size=0.2, random_state=42)\n",
    "\n",
    "# Будуємо моделі\n",
    "base_models = [\n",
    "    ('lr', LogisticRegression(max_iter=10000)),\n",
    "    ('dt', DecisionTreeClassifier())\n",
    "]\n",
    "\n",
    "final_model = SVC()\n",
    "\n",
    "stacking_clf = StackingClassifier(estimators=base_models, final_estimator=final_model)\n",
    "bagging_clf = BaggingClassifier(base_estimator=DecisionTreeClassifier())\n",
    "adaboost_clf = AdaBoostClassifier(base_estimator=LogisticRegression(max_iter=10000))\n",
    "xgb_clf = XGBClassifier(booster='gbtree')\n",
    "\n",
    "# Тренуємо моделі\n",
    "stacking_clf.fit(X_train, y_train)\n",
    "bagging_clf.fit(X_train, y_train)\n",
    "adaboost_clf.fit(X_train, y_train)\n",
    "xgb_clf.fit(X_train, y_train)\n",
    "\n",
    "# Здійснюємо передбачення та рахуємо точність\n",
    "stacking_pred = stacking_clf.predict(X_test)\n",
    "bagging_pred = bagging_clf.predict(X_test)\n",
    "adaboost_pred = adaboost_clf.predict(X_test)\n",
    "xgb_pred = xgb_clf.predict(X_test)\n",
    "\n",
    "stacking_accuracy = accuracy_score(y_test, stacking_pred)\n",
    "bagging_accuracy = accuracy_score(y_test, bagging_pred)\n",
    "adaboost_accuracy = accuracy_score(y_test, adaboost_pred)\n",
    "xgb_accuracy = accuracy_score(y_test, xgb_pred)\n",
    "\n",
    "print(\"Stacking Classifier Score:\", stacking_accuracy)\n",
    "print(\"Bagging Classifier Score:\", bagging_accuracy)\n",
    "print(\"AdaBoost Classifier Score:\", adaboost_accuracy)\n",
    "print(\"XGB Classifier Score:\", xgb_accuracy)"
   ]
  },
  {
   "cell_type": "code",
   "execution_count": null,
   "id": "8a143f4c",
   "metadata": {},
   "outputs": [],
   "source": [
    "# Модель AdaBoost з базовим алгоритмом LogisticRegression показала найкращий результат точності на тестовому наборі, досягнувши значення 0.974. Водночас Stacking Classifier і XGB Classifier з базовим алгоритмом gbtree показали однаковий результат точності 0.956."
   ]
  }
 ],
 "metadata": {
  "kernelspec": {
   "display_name": "Python 3 (ipykernel)",
   "language": "python",
   "name": "python3"
  },
  "language_info": {
   "codemirror_mode": {
    "name": "ipython",
    "version": 3
   },
   "file_extension": ".py",
   "mimetype": "text/x-python",
   "name": "python",
   "nbconvert_exporter": "python",
   "pygments_lexer": "ipython3",
   "version": "3.9.13"
  }
 },
 "nbformat": 4,
 "nbformat_minor": 5
}
